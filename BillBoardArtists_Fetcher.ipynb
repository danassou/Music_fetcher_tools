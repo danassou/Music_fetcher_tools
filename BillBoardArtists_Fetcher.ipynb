{
 "cells": [
  {
   "cell_type": "code",
   "execution_count": 1,
   "metadata": {},
   "outputs": [],
   "source": [
    "import re\n",
    "import billboard\n",
    "import numpy as np"
   ]
  },
  {
   "cell_type": "code",
   "execution_count": 2,
   "metadata": {
    "scrolled": true
   },
   "outputs": [
    {
     "name": "stdout",
     "output_type": "stream",
     "text": [
      "hot-100 chart from 2019-11-30\n",
      "-----------------------------\n",
      "1. 'Circles' by Post Malone\n",
      "2. 'Someone You Loved' by Lewis Capaldi\n",
      "3. 'Good As Hell' by Lizzo\n",
      "4. 'Memories' by Maroon 5\n",
      "5. 'Lose You To Love Me' by Selena Gomez\n",
      "6. 'Senorita' by Shawn Mendes & Camila Cabello\n",
      "7. 'No Guidance' by Chris Brown Featuring Drake\n",
      "8. 'everything i wanted' by Billie Eilish\n",
      "9. '10,000 Hours' by Dan + Shay & Justin Bieber\n",
      "10. 'Truth Hurts' by Lizzo\n",
      "11. 'Panini' by Lil Nas X\n",
      "12. 'Roxanne' by Arizona Zervas\n",
      "13. 'Trampoline' by SHAED\n",
      "14. 'HIGHEST IN THE ROOM' by Travis Scott\n",
      "15. 'Lover' by Taylor Swift\n",
      "16. 'Woah' by Lil Baby\n",
      "17. 'Bad Guy' by Billie Eilish\n",
      "18. 'BOP' by DaBaby\n",
      "19. 'Dance Monkey' by Tones And I\n",
      "20. 'Ballin'' by Mustard Featuring Roddy Ricch\n",
      "21. 'Hot' by Young Thug Featuring Gunna\n",
      "22. 'One Man Band' by Old Dominion\n",
      "23. 'Beautiful People' by Ed Sheeran Featuring Khalid\n",
      "24. 'Only Human' by Jonas Brothers\n",
      "25. 'Even Though I'm Leaving' by Luke Combs\n",
      "26. 'Ran$om' by Lil Tecca\n",
      "27. 'Old Town Road' by Lil Nas X Featuring Billy Ray Cyrus\n",
      "28. 'Bandit' by Juice WRLD & YoungBoy Never Broke Again\n",
      "29. 'On Chill' by Wale Featuring Jeremih\n",
      "30. 'I Don't Care' by Ed Sheeran & Justin Bieber\n",
      "31. 'All I Want For Christmas Is You' by Mariah Carey\n",
      "32. 'Talk' by Khalid\n",
      "33. 'Goodbyes' by Post Malone Featuring Young Thug\n",
      "34. 'Baby' by Lil Baby & DaBaby\n",
      "35. 'How Do You Sleep?' by Sam Smith\n",
      "36. 'Playing Games' by Summer Walker\n",
      "37. 'Heat' by Chris Brown Featuring Gunna\n",
      "38. 'Sucker' by Jonas Brothers\n",
      "39. 'Graveyard' by Halsey\n",
      "40. 'Suge' by DaBaby\n",
      "41. 'Hot Girl Bummer' by blackbear\n",
      "42. 'Don't Start Now' by Dua Lipa\n",
      "43. 'Time' by NF\n",
      "44. 'Jerry Sprunger' by Tory Lanez & T-Pain\n",
      "45. 'One Thing Right' by Marshmello & Kane Brown\n",
      "46. 'Money In The Grave' by Drake Featuring Rick Ross\n",
      "47. 'What If I Never Get Over You' by Lady Antebellum\n",
      "48. 'Dancing With A Stranger' by Sam Smith & Normani\n",
      "49. 'Reply' by A Boogie Wit da Hoodie Featuring Lil Uzi Vert\n",
      "50. 'The Bones' by Maren Morris\n",
      "51. 'Juicy' by Doja Cat & Tyga\n",
      "52. 'Follow God' by Kanye West\n",
      "53. 'Remember You Young' by Thomas Rhett\n",
      "54. 'Heart On Ice' by Rod Wave\n",
      "55. 'None Of Your Concern' by Jhene Aiko Featuring Big Sean\n",
      "56. '223's' by YNW Melly & 9lokknine\n",
      "57. 'Take What You Want' by Post Malone Featuring Ozzy Osbourne & Travis Scott\n",
      "58. 'Camelot' by NLE Choppa\n",
      "59. 'VIBEZ' by DaBaby\n",
      "60. 'Watermelon Sugar' by Harry Styles\n",
      "61. 'Prayed For You' by Matt Stell\n",
      "62. 'Kinfolks' by Sam Hunt\n",
      "63. 'Leave Em Alone' by Layton Greene, Lil Baby, City Girls & PnB Rock\n",
      "64. 'Baby Sitter' by DaBaby Featuring Offset\n",
      "65. 'We Were' by Keith Urban\n",
      "66. 'The Take' by Tory Lanez Featuring Chris Brown\n",
      "67. 'Heartache Medication' by Jon Pardi\n",
      "68. 'Enemies' by Post Malone Featuring DaBaby\n",
      "69. 'Hate Me' by Ellie Goulding & Juice WRLD\n",
      "70. 'Ridin' Roads' by Dustin Lynch\n",
      "71. 'Nice To Meet Ya' by Niall Horan\n",
      "72. 'Liar' by Camila Cabello\n",
      "73. 'Every Little Thing' by Russell Dickerson\n",
      "74. 'Tip Of My Tongue' by Kenny Chesney\n",
      "75. 'Falling' by Trevor Daniel\n",
      "76. 'All The Good Girls Go To Hell' by Billie Eilish\n",
      "77. 'Lights Up' by Harry Styles\n",
      "78. 'Make No Sense' by YoungBoy Never Broke Again\n",
      "79. 'Hot Girl Summer' by Megan Thee Stallion, Nicki Minaj & Ty Dolla $ign\n",
      "80. 'I Don't Know About You' by Chris Lane\n",
      "81. 'Lonely Child' by YoungBoy Never Broke Again\n",
      "82. 'Stuck In A Dream' by Lil Mosey x Gunna\n",
      "83. 'homecoming queen?' by Kelsea Ballerini\n",
      "84. 'Good Vibes' by Chris Janson\n",
      "85. 'Slow Dancing In The Dark' by Joji\n",
      "86. 'La Cancion' by J Balvin & Bad Bunny\n",
      "87. 'Beauty In The Benz' by Tory Lanez Featuring Snoop Dogg\n",
      "88. 'Easy' by DaniLeigh Featuring Chris Brown\n",
      "89. 'Up All Night' by Khalid\n",
      "90. 'Heartless' by Diplo Presents Thomas Wesley Featuring Morgan Wallen\n",
      "91. 'Lalala' by Y2K & bbno$\n",
      "92. 'Tusa' by Karol G & Nicki Minaj\n",
      "93. 'We Back' by Jason Aldean\n",
      "94. 'Self Control' by YoungBoy Never Broke Again\n",
      "95. 'Homesick' by Kane Brown\n",
      "96. 'Hot Shower' by Chance The Rapper Featuring MadeinTYO & DaBaby\n",
      "97. 'Death' by Trippie Redd Featuring DaBaby\n",
      "98. 'Yellow Hearts' by Ant Saunders\n",
      "99. 'Hell Right' by Blake Shelton Featuring Trace Adkins\n",
      "100. 'RITMO (Bad Boys For Life)' by The Black Eyed Peas X J Balvin\n"
     ]
    }
   ],
   "source": [
    "# The current billboard hot 100 is...\n",
    "chart = billboard.ChartData('hot-100')\n",
    "print(chart)"
   ]
  },
  {
   "cell_type": "markdown",
   "metadata": {},
   "source": [
    "Let's do a quick function tha extracts the list of unique artists present in a hot-100 chart, including the featured artists. "
   ]
  },
  {
   "cell_type": "code",
   "execution_count": 3,
   "metadata": {},
   "outputs": [],
   "source": [
    "def ExtractArtists_inBillboardWeek(chart):\n",
    "    \n",
    "    current_artists = [el.artist for el in chart]\n",
    "    \n",
    "    # we want to separate the multiple artists specified by \"&\", \"Featuring\", \",\" and \"X\".\n",
    "    # we can do this simply by spliting the strings accordingly with the re library.\n",
    "    current_artists_withFeat = []\n",
    "\n",
    "    for el in current_artists:\n",
    "        # separate the names traditionaly defining featuring artists\n",
    "        split_artists = re.split(', | & | Featuring | featuring | X |Featuring | x |/' , el)\n",
    "        # append the names one by one to avoid list of lists \n",
    "        for el in split_artists:\n",
    "            current_artists_withFeat.append(el)\n",
    "\n",
    "            # remove possible void elements\n",
    "    if \"\" in current_artists_withFeat:  \n",
    "        current_artists_withFeat.remove(\"\")\n",
    "    \n",
    "    # \"unify\" and sort the list of artists.\n",
    "    current_artists_withFeat_uniques = sorted(list(set(current_artists_withFeat)))\n",
    "    \n",
    "    return current_artists_withFeat_uniques"
   ]
  },
  {
   "cell_type": "code",
   "execution_count": 4,
   "metadata": {
    "scrolled": false
   },
   "outputs": [
    {
     "name": "stdout",
     "output_type": "stream",
     "text": [
      "Number of artists in current billboard hot-100: 104\n"
     ]
    },
    {
     "data": {
      "text/plain": [
       "['9lokknine',\n",
       " 'A Boogie Wit da Hoodie',\n",
       " 'Ant Saunders',\n",
       " 'Arizona Zervas',\n",
       " 'Bad Bunny',\n",
       " 'Big Sean',\n",
       " 'Billie Eilish',\n",
       " 'Billy Ray Cyrus',\n",
       " 'Blake Shelton',\n",
       " 'Camila Cabello',\n",
       " '...',\n",
       " 'Trippie Redd',\n",
       " 'Ty Dolla $ign',\n",
       " 'Tyga',\n",
       " 'Wale',\n",
       " 'Y2K',\n",
       " 'YNW Melly',\n",
       " 'Young Thug',\n",
       " 'YoungBoy Never Broke Again',\n",
       " 'bbno$',\n",
       " 'blackbear']"
      ]
     },
     "execution_count": 4,
     "metadata": {},
     "output_type": "execute_result"
    }
   ],
   "source": [
    "# apply the function to the current billboard chart\n",
    "current_artists_withFeat_uniques = ExtractArtists_inBillboardWeek(billboard.ChartData('hot-100'))\n",
    "print(\"Number of artists in current billboard hot-100:\",len(current_artists_withFeat_uniques))\n",
    "current_artists_withFeat_uniques[:10] + [\"...\"] + current_artists_withFeat_uniques[-10:]"
   ]
  },
  {
   "cell_type": "markdown",
   "metadata": {},
   "source": [
    "Note that you may have strange names or singular ways of signifying featurings. For example, Lil Nas X having an X in his name makes the function believes it is a feature term. However, it does not really matter: when we will extract albums, \"Lil Nas\" will just not be found in the Itunes library, and we will skip to the next artist. "
   ]
  },
  {
   "cell_type": "markdown",
   "metadata": {},
   "source": [
    "So, we gathered about 100 artists. Even with 10 albums per artists, that makes only about 1000 albums, with possibly overlapping genres. We need more albums, meaning more artists. \n",
    "\n",
    "Let us look for the Billboard in previous decades, distant enough to have as many different artists as possible"
   ]
  },
  {
   "cell_type": "code",
   "execution_count": 5,
   "metadata": {},
   "outputs": [],
   "source": [
    "# let's consider the 1st of january billboard for a few years, every 5 years since 1980\n",
    "extra_artists  = []\n",
    "for date in [\"\".join([str(year),\"-01-01\"]) for year in [1970+5*i for i in range(10)]]:\n",
    "    # billboard of this week\n",
    "    chart = billboard.ChartData('hot-100',date = date)\n",
    "    # add every artist of this week to the list of extra artists\n",
    "    extra_temp = ExtractArtists_inBillboardWeek(chart)\n",
    "    extra_artists = extra_artists + extra_temp\n",
    "    \n",
    "extra_artists_uniques = sorted(list(set(extra_artists)))"
   ]
  },
  {
   "cell_type": "markdown",
   "metadata": {},
   "source": [
    "But it should be enough artists to have a decent amount of albums. We now have "
   ]
  },
  {
   "cell_type": "code",
   "execution_count": 6,
   "metadata": {},
   "outputs": [
    {
     "name": "stdout",
     "output_type": "stream",
     "text": [
      "1153 artists\n"
     ]
    }
   ],
   "source": [
    "print(len(extra_artists)+ len(current_artists_withFeat_uniques), \"artists\")"
   ]
  },
  {
   "cell_type": "markdown",
   "metadata": {},
   "source": [
    "Which should be enough for a decent amount of albums. "
   ]
  },
  {
   "cell_type": "markdown",
   "metadata": {},
   "source": [
    "Important note: You cannot make too many requests in one time, or you'll get an HTTP error. This is unfortunately controled by the server and it does not seem that you can do much about it (although I am not an expert). Therefore, we could try to extract more artists, but it qould require multiple separated queries... "
   ]
  },
  {
   "cell_type": "code",
   "execution_count": 7,
   "metadata": {},
   "outputs": [
    {
     "name": "stdout",
     "output_type": "stream",
     "text": [
      "2019-11-30 ...\n",
      "2019-11-23 ...\n",
      "2019-11-16 ...\n",
      "2019-11-09 ...\n",
      "2019-11-02 ...\n",
      "2019-10-26 ...\n",
      "2019-10-19 ...\n",
      "2019-10-12 ...\n",
      "2019-10-05 ...\n",
      "2019-09-28 ...\n"
     ]
    },
    {
     "ename": "HTTPError",
     "evalue": "429 Client Error: Too Many Requests for url: http://www.billboard.com/charts/hot-100/2019-09-21",
     "output_type": "error",
     "traceback": [
      "\u001b[0;31m---------------------------------------------------------------------------\u001b[0m",
      "\u001b[0;31mHTTPError\u001b[0m                                 Traceback (most recent call last)",
      "\u001b[0;32m<ipython-input-7-fcc45db4b482>\u001b[0m in \u001b[0;36m<module>\u001b[0;34m\u001b[0m\n\u001b[1;32m      3\u001b[0m \u001b[0;32mwhile\u001b[0m \u001b[0mchart\u001b[0m\u001b[0;34m.\u001b[0m\u001b[0mpreviousDate\u001b[0m \u001b[0;34m>\u001b[0m \u001b[0;34m'2019-05-30'\u001b[0m\u001b[0;34m:\u001b[0m\u001b[0;34m\u001b[0m\u001b[0;34m\u001b[0m\u001b[0m\n\u001b[1;32m      4\u001b[0m     \u001b[0mprint\u001b[0m\u001b[0;34m(\u001b[0m\u001b[0mchart\u001b[0m\u001b[0;34m.\u001b[0m\u001b[0mdate\u001b[0m\u001b[0;34m,\u001b[0m\u001b[0;34m\"...\"\u001b[0m\u001b[0;34m)\u001b[0m\u001b[0;34m\u001b[0m\u001b[0;34m\u001b[0m\u001b[0m\n\u001b[0;32m----> 5\u001b[0;31m     \u001b[0mchart\u001b[0m \u001b[0;34m=\u001b[0m  \u001b[0mbillboard\u001b[0m\u001b[0;34m.\u001b[0m\u001b[0mChartData\u001b[0m\u001b[0;34m(\u001b[0m\u001b[0;34m'hot-100'\u001b[0m\u001b[0;34m,\u001b[0m \u001b[0mchart\u001b[0m\u001b[0;34m.\u001b[0m\u001b[0mpreviousDate\u001b[0m\u001b[0;34m)\u001b[0m\u001b[0;34m\u001b[0m\u001b[0;34m\u001b[0m\u001b[0m\n\u001b[0m",
      "\u001b[0;32m~/anaconda/envs/py37/lib/python3.7/site-packages/billboard.py\u001b[0m in \u001b[0;36m__init__\u001b[0;34m(self, name, date, fetch, timeout)\u001b[0m\n\u001b[1;32m    150\u001b[0m         \u001b[0mself\u001b[0m\u001b[0;34m.\u001b[0m\u001b[0mentries\u001b[0m \u001b[0;34m=\u001b[0m \u001b[0;34m[\u001b[0m\u001b[0;34m]\u001b[0m\u001b[0;34m\u001b[0m\u001b[0;34m\u001b[0m\u001b[0m\n\u001b[1;32m    151\u001b[0m         \u001b[0;32mif\u001b[0m \u001b[0mfetch\u001b[0m\u001b[0;34m:\u001b[0m\u001b[0;34m\u001b[0m\u001b[0;34m\u001b[0m\u001b[0m\n\u001b[0;32m--> 152\u001b[0;31m             \u001b[0mself\u001b[0m\u001b[0;34m.\u001b[0m\u001b[0mfetchEntries\u001b[0m\u001b[0;34m(\u001b[0m\u001b[0;34m)\u001b[0m\u001b[0;34m\u001b[0m\u001b[0;34m\u001b[0m\u001b[0m\n\u001b[0m\u001b[1;32m    153\u001b[0m \u001b[0;34m\u001b[0m\u001b[0m\n\u001b[1;32m    154\u001b[0m     \u001b[0;32mdef\u001b[0m \u001b[0m__repr__\u001b[0m\u001b[0;34m(\u001b[0m\u001b[0mself\u001b[0m\u001b[0;34m)\u001b[0m\u001b[0;34m:\u001b[0m\u001b[0;34m\u001b[0m\u001b[0;34m\u001b[0m\u001b[0m\n",
      "\u001b[0;32m~/anaconda/envs/py37/lib/python3.7/site-packages/billboard.py\u001b[0m in \u001b[0;36mfetchEntries\u001b[0;34m(self)\u001b[0m\n\u001b[1;32m    372\u001b[0m             \u001b[0mmessage\u001b[0m \u001b[0;34m=\u001b[0m \u001b[0;34m\"Chart not found (perhaps the name is misspelled?)\"\u001b[0m\u001b[0;34m\u001b[0m\u001b[0;34m\u001b[0m\u001b[0m\n\u001b[1;32m    373\u001b[0m             \u001b[0;32mraise\u001b[0m \u001b[0mBillboardNotFoundException\u001b[0m\u001b[0;34m(\u001b[0m\u001b[0mmessage\u001b[0m\u001b[0;34m)\u001b[0m\u001b[0;34m\u001b[0m\u001b[0;34m\u001b[0m\u001b[0m\n\u001b[0;32m--> 374\u001b[0;31m         \u001b[0mreq\u001b[0m\u001b[0;34m.\u001b[0m\u001b[0mraise_for_status\u001b[0m\u001b[0;34m(\u001b[0m\u001b[0;34m)\u001b[0m\u001b[0;34m\u001b[0m\u001b[0;34m\u001b[0m\u001b[0m\n\u001b[0m\u001b[1;32m    375\u001b[0m \u001b[0;34m\u001b[0m\u001b[0m\n\u001b[1;32m    376\u001b[0m         \u001b[0msoup\u001b[0m \u001b[0;34m=\u001b[0m \u001b[0mBeautifulSoup\u001b[0m\u001b[0;34m(\u001b[0m\u001b[0mreq\u001b[0m\u001b[0;34m.\u001b[0m\u001b[0mtext\u001b[0m\u001b[0;34m,\u001b[0m \u001b[0;34m\"html.parser\"\u001b[0m\u001b[0;34m)\u001b[0m\u001b[0;34m\u001b[0m\u001b[0;34m\u001b[0m\u001b[0m\n",
      "\u001b[0;32m~/anaconda/envs/py37/lib/python3.7/site-packages/requests/models.py\u001b[0m in \u001b[0;36mraise_for_status\u001b[0;34m(self)\u001b[0m\n\u001b[1;32m    842\u001b[0m \u001b[0;34m\u001b[0m\u001b[0m\n\u001b[1;32m    843\u001b[0m         \u001b[0;32mif\u001b[0m \u001b[0mhttp_error_msg\u001b[0m\u001b[0;34m:\u001b[0m\u001b[0;34m\u001b[0m\u001b[0;34m\u001b[0m\u001b[0m\n\u001b[0;32m--> 844\u001b[0;31m             \u001b[0;32mraise\u001b[0m \u001b[0mHTTPError\u001b[0m\u001b[0;34m(\u001b[0m\u001b[0mhttp_error_msg\u001b[0m\u001b[0;34m,\u001b[0m \u001b[0mresponse\u001b[0m\u001b[0;34m=\u001b[0m\u001b[0mself\u001b[0m\u001b[0;34m)\u001b[0m\u001b[0;34m\u001b[0m\u001b[0;34m\u001b[0m\u001b[0m\n\u001b[0m\u001b[1;32m    845\u001b[0m \u001b[0;34m\u001b[0m\u001b[0m\n\u001b[1;32m    846\u001b[0m     \u001b[0;32mdef\u001b[0m \u001b[0mclose\u001b[0m\u001b[0;34m(\u001b[0m\u001b[0mself\u001b[0m\u001b[0;34m)\u001b[0m\u001b[0;34m:\u001b[0m\u001b[0;34m\u001b[0m\u001b[0;34m\u001b[0m\u001b[0m\n",
      "\u001b[0;31mHTTPError\u001b[0m: 429 Client Error: Too Many Requests for url: http://www.billboard.com/charts/hot-100/2019-09-21"
     ]
    }
   ],
   "source": [
    "chart = billboard.ChartData(\"hot-100\",date='2019-11-25')\n",
    "# try to request the billboard of every week until last week of may ... Until an the HTTP error\n",
    "while chart.previousDate > '2019-05-30':\n",
    "    print(chart.date,\"...\")\n",
    "    chart =  billboard.ChartData('hot-100', chart.previousDate)"
   ]
  }
 ],
 "metadata": {
  "kernelspec": {
   "display_name": "Python (py37)",
   "language": "python",
   "name": "py37"
  },
  "language_info": {
   "codemirror_mode": {
    "name": "ipython",
    "version": 3
   },
   "file_extension": ".py",
   "mimetype": "text/x-python",
   "name": "python",
   "nbconvert_exporter": "python",
   "pygments_lexer": "ipython3",
   "version": "3.7.2"
  }
 },
 "nbformat": 4,
 "nbformat_minor": 1
}
